{
 "cells": [
  {
   "cell_type": "code",
   "execution_count": null,
   "metadata": {},
   "outputs": [],
   "source": [
    "import sys\n",
    "sys.path.append('../')\n",
    "import numpy as np\n",
    "import pandas as pd\n",
    "from sklearn.linear_model import LinearRegression\n",
    "from matplotlib import pyplot as plt\n",
    "import scipy as sp\n",
    "import seaborn as sns\n",
    "\n",
    "sns.set(style='ticks', context='paper',\n",
    "        rc={'font.size': 6, \n",
    "            'axes.titlesize': 7,\n",
    "                                   'axes.labelsize': 7,\n",
    "                                   'axes.labelpad': 2,\n",
    "                                   'xtick.labelsize': 5,\n",
    "                                   'ytick.labelsize': 5,\n",
    "                                   'legend.title_fontsize' : 5.5,\n",
    "                                   'legend.fontsize' : 5.5,\n",
    "                                   'legend.markerscale': 0.5,\n",
    "                                   'axes.spines.top': False,\n",
    "                                   'axes.spines.right': False,\n",
    "                                   'axes.linewidth': 0.4,\n",
    "                                   'xtick.major.width': 0.4,\n",
    "                                   'ytick.major.width': 0.4,\n",
    "                                   'xtick.major.size': 2.5,\n",
    "                                   'ytick.major.size': 2.5,\n",
    "                                   'xtick.minor.size': 1.5,\n",
    "                                   'ytick.minor.size': 1.5,\n",
    "                                   'xtick.minor.width': 0.2,\n",
    "                                   'ytick.minor.width': 0.2,\n",
    "                                   'figure.constrained_layout.use': True,\n",
    "                                   'figure.dpi': 200})\n",
    "\n",
    "id_columns = ['architecture', 'task', 'kind', 'source', 'layer']\n",
    "tf_to_pt_layer_map = {'encode_2': 'layer1.0.relu', 'encode_3': 'layer1.1.relu', \n",
    "                      'encode_4': 'layer2.0.relu', 'encode_5': 'layer2.1.relu', \n",
    "                      'encode_6': 'layer3.0.relu', 'encode_7': 'layer3.1.relu', \n",
    "                      'encode_8': 'layer4.0.relu', 'encode_9': 'layer4.1.relu'}\n"
   ]
  }
 ],
 "metadata": {
  "language_info": {
   "name": "python"
  },
  "orig_nbformat": 4
 },
 "nbformat": 4,
 "nbformat_minor": 2
}
