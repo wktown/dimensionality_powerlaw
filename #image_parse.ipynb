{
 "cells": [
  {
   "cell_type": "code",
   "execution_count": null,
   "metadata": {},
   "outputs": [],
   "source": [
    "import os\n",
    "def paths_from_dir(dir_path):\n",
    "    image_paths = [os.path.join(dir_path, file) for file in os.listdir(dir_path)]\n",
    "    #image_paths = [p for p in image_paths if p[-4:] == '.png']\n",
    "    return image_paths\n",
    "\n",
    "def paths_from_csv(image_dir, csv_path, column):\n",
    "    file_names = pd.read_csv(csv_path)[column].values.tolist()\n",
    "    image_paths = [os.path.join(image_dir, file) for file in file_names]\n",
    "    return image_paths\n",
    "\n",
    "def images_from_dir(dir_path, return_da=False):\n",
    "    images = np.stack([Image(i) for i in os.listdir(dir_path)])\n",
    "    if return_da:\n",
    "        images = xr.DataArray(data=images)\n",
    "    return images\n",
    "\n",
    "def images_from_path(image_paths, return_da=False):\n",
    "    images = np.stack(Image.open(i) for i in image_paths)\n",
    "    if return_da:\n",
    "        images = xr.DataArray(data=images)\n",
    "    return images\n",
    "\n",
    "def load_single_image(image_paths, index):\n",
    "    i = image_paths[index]\n",
    "    print(i)\n",
    "    image = np.asarray(Image.open(i))\n",
    "    return image\n",
    "\n",
    "#majaj:\n",
    "data_dir = os.getenv('BRAINIO_HOME', os.path.expanduser('~/.brainio'))\n",
    "data_dir = os.path.join(data_dir, 'image_dicarlo_hvm-public')\n",
    "assert os.path.exists(data_dir)\n",
    "# - to use majaj from directory use uncomment the line with if p[-4: == '.png]"
   ]
  }
 ],
 "metadata": {
  "language_info": {
   "name": "python"
  }
 },
 "nbformat": 4,
 "nbformat_minor": 2
}
